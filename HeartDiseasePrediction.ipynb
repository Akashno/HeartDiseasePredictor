{
  "nbformat": 4,
  "nbformat_minor": 0,
  "metadata": {
    "colab": {
      "name": "HeartDiseasePrediction.ipynb",
      "provenance": [],
      "collapsed_sections": [],
      "authorship_tag": "ABX9TyOvHylJShmfZPDToj9i1Cul",
      "include_colab_link": true
    },
    "kernelspec": {
      "name": "python3",
      "display_name": "Python 3"
    },
    "language_info": {
      "name": "python"
    }
  },
  "cells": [
    {
      "cell_type": "markdown",
      "metadata": {
        "id": "view-in-github",
        "colab_type": "text"
      },
      "source": [
        "<a href=\"https://colab.research.google.com/github/Akashno/HeartDiseasePredictor/blob/master/HeartDiseasePrediction.ipynb\" target=\"_parent\"><img src=\"https://colab.research.google.com/assets/colab-badge.svg\" alt=\"Open In Colab\"/></a>"
      ]
    },
    {
      "cell_type": "code",
      "metadata": {
        "id": "I5brpIxA66Gk"
      },
      "source": [
        "import pandas as pd\n",
        "import warnings\n",
        "\n",
        "\n",
        "\n",
        "warnings.filterwarnings('ignore')\n",
        "%matplotlib inline"
      ],
      "execution_count": null,
      "outputs": []
    },
    {
      "cell_type": "code",
      "metadata": {
        "id": "UCZIfbD87gQU"
      },
      "source": [
        "from sklearn.metrics import accuracy_score\n",
        "from sklearn.model_selection import train_test_split\n",
        "import seaborn"
      ],
      "execution_count": null,
      "outputs": []
    },
    {
      "cell_type": "code",
      "metadata": {
        "id": "kDExTjACmZ24"
      },
      "source": [
        "#classifiers\n",
        "from sklearn.linear_model import LogisticRegression\n",
        "from sklearn.naive_bayes import GaussianNB\n",
        "from sklearn import svm\n",
        "from sklearn.neighbors import KNeighborsClassifier\n",
        "from sklearn.tree import DecisionTreeClassifier\n",
        "from sklearn.ensemble import RandomForestClassifier"
      ],
      "execution_count": null,
      "outputs": []
    },
    {
      "cell_type": "code",
      "metadata": {
        "id": "2j3_YwCg55na"
      },
      "source": [
        "dataset = pd.read_csv(\"heart.csv\")"
      ],
      "execution_count": null,
      "outputs": []
    },
    {
      "cell_type": "code",
      "metadata": {
        "id": "zOrE9Pe2lqUl"
      },
      "source": [
        "# spliting and dividing the dataset \n",
        "predictors = dataset.drop(\"target\",axis=1)\n",
        "target = dataset[\"target\"]\n",
        "X_train,X_test,Y_train,Y_test = train_test_split(predictors,target,test_size=0.20,random_state=0)"
      ],
      "execution_count": null,
      "outputs": []
    },
    {
      "cell_type": "markdown",
      "metadata": {
        "id": "VMUJDXdh7_gm"
      },
      "source": [
        "Analysing the splitted data\n"
      ]
    },
    {
      "cell_type": "code",
      "metadata": {
        "colab": {
          "base_uri": "https://localhost:8080/"
        },
        "id": "ckzDvJh570W6",
        "outputId": "2cbef964-c42c-486f-9e33-d2a098877656"
      },
      "source": [
        "X_train.shape"
      ],
      "execution_count": null,
      "outputs": [
        {
          "output_type": "execute_result",
          "data": {
            "text/plain": [
              "(242, 13)"
            ]
          },
          "metadata": {
            "tags": []
          },
          "execution_count": 102
        }
      ]
    },
    {
      "cell_type": "code",
      "metadata": {
        "colab": {
          "base_uri": "https://localhost:8080/"
        },
        "id": "qlBrL7Px8Etz",
        "outputId": "ac57efda-744e-46ce-b617-a45ad27520c3"
      },
      "source": [
        "X_test.shape\n"
      ],
      "execution_count": null,
      "outputs": [
        {
          "output_type": "execute_result",
          "data": {
            "text/plain": [
              "(61, 13)"
            ]
          },
          "metadata": {
            "tags": []
          },
          "execution_count": 103
        }
      ]
    },
    {
      "cell_type": "code",
      "metadata": {
        "colab": {
          "base_uri": "https://localhost:8080/"
        },
        "id": "oyBvghJD8GTy",
        "outputId": "2f0bc532-c6fc-4f8c-f0b3-bca532a4500e"
      },
      "source": [
        "Y_train.shape\n"
      ],
      "execution_count": null,
      "outputs": [
        {
          "output_type": "execute_result",
          "data": {
            "text/plain": [
              "(242,)"
            ]
          },
          "metadata": {
            "tags": []
          },
          "execution_count": 104
        }
      ]
    },
    {
      "cell_type": "code",
      "metadata": {
        "colab": {
          "base_uri": "https://localhost:8080/"
        },
        "id": "m109S44T8HjD",
        "outputId": "2ce8d5eb-d7d4-4569-e8f4-da691d09cc1d"
      },
      "source": [
        "Y_test.shape"
      ],
      "execution_count": null,
      "outputs": [
        {
          "output_type": "execute_result",
          "data": {
            "text/plain": [
              "(61,)"
            ]
          },
          "metadata": {
            "tags": []
          },
          "execution_count": 105
        }
      ]
    },
    {
      "cell_type": "markdown",
      "metadata": {
        "id": "QtWlPG5trzc7"
      },
      "source": [
        "Analysing the data"
      ]
    },
    {
      "cell_type": "code",
      "metadata": {
        "id": "QMki2XHlsR-M"
      },
      "source": [
        "target = dataset['target']"
      ],
      "execution_count": null,
      "outputs": []
    },
    {
      "cell_type": "code",
      "metadata": {
        "id": "04SPH_VUqt3Z"
      },
      "source": [
        "#analysing the count of people with disease and with out disease in the dataset\n",
        "seaborn.countplot(target)\n"
      ],
      "execution_count": null,
      "outputs": []
    },
    {
      "cell_type": "code",
      "metadata": {
        "id": "DFPO_tRqr7Tv"
      },
      "source": [
        "#analysing the sex feature \n",
        "seaborn.barplot(dataset[\"sex\"],target)"
      ],
      "execution_count": null,
      "outputs": []
    },
    {
      "cell_type": "code",
      "metadata": {
        "id": "6P8IRjLjsY6n"
      },
      "source": [
        "#analysing the chest pain feature \n",
        "seaborn.barplot(dataset[\"cp\"],target)"
      ],
      "execution_count": null,
      "outputs": []
    },
    {
      "cell_type": "code",
      "metadata": {
        "id": "kb4YPErJsxLp"
      },
      "source": [
        "#analysing the fbs feature \n",
        "seaborn.barplot(dataset[\"fbs\"],target)"
      ],
      "execution_count": null,
      "outputs": []
    },
    {
      "cell_type": "code",
      "metadata": {
        "id": "8_8hCBWcs5K_"
      },
      "source": [
        "#analysing the rest ecg feature \n",
        "seaborn.barplot(dataset[\"restecg\"],target)"
      ],
      "execution_count": null,
      "outputs": []
    },
    {
      "cell_type": "code",
      "metadata": {
        "id": "iwKuyvCMs8wA"
      },
      "source": [
        "#analysing the exang feature \n",
        "seaborn.barplot(dataset[\"exang\"],target)"
      ],
      "execution_count": null,
      "outputs": []
    },
    {
      "cell_type": "code",
      "metadata": {
        "id": "UAGkaX4ctA83"
      },
      "source": [
        "#analysing the slope feature \n",
        "seaborn.barplot(dataset[\"slope\"],target)"
      ],
      "execution_count": null,
      "outputs": []
    },
    {
      "cell_type": "code",
      "metadata": {
        "id": "iayHPj1FtFNz"
      },
      "source": [
        "#analysing the ca feature \n",
        "seaborn.barplot(dataset[\"ca\"],target)"
      ],
      "execution_count": null,
      "outputs": []
    },
    {
      "cell_type": "code",
      "metadata": {
        "id": "cpUdVlU3tvW_"
      },
      "source": [
        ""
      ],
      "execution_count": null,
      "outputs": []
    },
    {
      "cell_type": "markdown",
      "metadata": {
        "id": "Z_hHlTqIvaQR"
      },
      "source": [
        "Training the data model\n"
      ]
    },
    {
      "cell_type": "code",
      "metadata": {
        "id": "2qwCHkz7mEWa"
      },
      "source": [
        "#logistic regression model\n",
        "LR_model = LogisticRegression()\n",
        "LR_model.fit(X_train, Y_train)\n",
        "LR_prediction = LR_model.predict(X_test)"
      ],
      "execution_count": null,
      "outputs": []
    },
    {
      "cell_type": "code",
      "metadata": {
        "id": "Mp6TLQGbm1T6"
      },
      "source": [
        "# navie bayes model\n",
        "NB_model = GaussianNB()\n",
        "NB_model.fit(X_train,Y_train)\n",
        "NB_prediction = NB_model.predict(X_test)"
      ],
      "execution_count": null,
      "outputs": []
    },
    {
      "cell_type": "code",
      "metadata": {
        "id": "KPOcpt3ZnFmu"
      },
      "source": [
        "# support vector machine\n",
        "SV_model = svm.SVC(kernel='linear')\n",
        "SV_model.fit(X_train, Y_train)\n",
        "SV_prediction = SV_model.predict(X_test)"
      ],
      "execution_count": null,
      "outputs": []
    },
    {
      "cell_type": "code",
      "metadata": {
        "id": "I6cbUcBMmtGJ"
      },
      "source": [
        "# k nearest neighbors model\n",
        "KNN_model = KNeighborsClassifier(n_neighbors=7)\n",
        "KNN_model.fit(X_train,Y_train)\n",
        "KNN_prediction=KNN_model.predict(X_test)"
      ],
      "execution_count": null,
      "outputs": []
    },
    {
      "cell_type": "code",
      "metadata": {
        "id": "vmuQxIdVnqzY"
      },
      "source": [
        "# Decision tree model\n",
        "max_accuracy = 0\n",
        "for x in range(200):\n",
        "    dt = DecisionTreeClassifier(random_state=x)\n",
        "    dt.fit(X_train,Y_train)\n",
        "    Y_pred_dt = dt.predict(X_test)\n",
        "    current_accuracy = round(accuracy_score(Y_pred_dt,Y_test)*100,2)\n",
        "    if(current_accuracy>max_accuracy):\n",
        "        max_accuracy = current_accuracy\n",
        "        best_x = x\n",
        "        \n",
        "DT_model = DecisionTreeClassifier(random_state=best_x)\n",
        "DT_model.fit(X_train,Y_train)\n",
        "DT_prediction = DT_model.predict(X_test)"
      ],
      "execution_count": null,
      "outputs": []
    },
    {
      "cell_type": "code",
      "metadata": {
        "id": "zok5V85doADV"
      },
      "source": [
        "#random forest model\n",
        "max_accuracy = 0\n",
        "for x in range(2000):\n",
        "    RF_model = RandomForestClassifier(random_state=x)\n",
        "    RF_model.fit(X_train,Y_train)\n",
        "    Y_pred_rf = RF_model.predict(X_test)\n",
        "    current_accuracy = round(accuracy_score(Y_pred_rf,Y_test)*100,2)\n",
        "    if(current_accuracy>max_accuracy):\n",
        "        max_accuracy = current_accuracy\n",
        "        best_x = x\n",
        "        \n",
        "RF_model = RandomForestClassifier(random_state=best_x)\n",
        "RF_model.fit(X_train,Y_train)\n",
        "RF_prediction = RF_model.predict(X_test)"
      ],
      "execution_count": null,
      "outputs": []
    },
    {
      "cell_type": "markdown",
      "metadata": {
        "id": "YvEGUtdRyJ3x"
      },
      "source": [
        "Accuray score analyse\n"
      ]
    },
    {
      "cell_type": "code",
      "metadata": {
        "id": "HMTLRgYCxb3q"
      },
      "source": [
        "#checking the accuracy score\n",
        "LR_score = round(accuracy_score(LR_prediction,Y_test)*100,2)\n",
        "NB_score = round(accuracy_score(NB_prediction,Y_test)*100,2)\n",
        "SV_score = round(accuracy_score(SV_prediction,Y_test)*100,2)\n",
        "KNN_score = round(accuracy_score(KNN_prediction,Y_test)*100,2)\n",
        "DT_score = round(accuracy_score(DT_prediction,Y_test)*100,2)\n",
        "RF_score = round(accuracy_score(RF_prediction,Y_test)*100,2)\n"
      ],
      "execution_count": null,
      "outputs": []
    },
    {
      "cell_type": "code",
      "metadata": {
        "colab": {
          "base_uri": "https://localhost:8080/",
          "height": 384
        },
        "id": "Uy3dX4uCyTc2",
        "outputId": "e75d32ad-d5c1-4a37-db92-dc6c73eca7dc"
      },
      "source": [
        "scores = [LR_score,NB_score,SV_score,KNN_score,DT_score,RF_score]\n",
        "algorithms = [\"LR\",\"NB\",\"SVm\",\"KNN\",\"DT\",\"RF\"]\n",
        "for i in range(len(algorithms)):\n",
        "  print(algorithms[i]+\"'s accuracy score is :\"+str(scores[i]) + \"%\")    \n",
        "seaborn.barplot(algorithms,scores)"
      ],
      "execution_count": null,
      "outputs": [
        {
          "output_type": "stream",
          "text": [
            "LR's accuracy score is :85.25%\n",
            "NB's accuracy score is :85.25%\n",
            "SVm's accuracy score is :81.97%\n",
            "KNN's accuracy score is :67.21%\n",
            "DT's accuracy score is :81.97%\n",
            "RF's accuracy score is :90.16%\n"
          ],
          "name": "stdout"
        },
        {
          "output_type": "execute_result",
          "data": {
            "text/plain": [
              "<matplotlib.axes._subplots.AxesSubplot at 0x7fcd9b604f90>"
            ]
          },
          "metadata": {
            "tags": []
          },
          "execution_count": 106
        },
        {
          "output_type": "display_data",
          "data": {
            "image/png": "[encoded data removed]",
            "text/plain": [
              "<Figure size 432x288 with 1 Axes>"
            ]
          },
          "metadata": {
            "tags": [],
            "needs_background": "light"
          }
        }
      ]
    }
  ]
}